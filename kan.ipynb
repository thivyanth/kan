{
 "cells": [
  {
   "cell_type": "code",
   "execution_count": 2,
   "id": "a843680e",
   "metadata": {
    "_cell_guid": "b1076dfc-b9ad-4769-8c92-a6c4dae69d19",
    "_uuid": "8f2839f25d086af736a60e9eeb907d3b93b6e0e5",
    "execution": {
     "iopub.execute_input": "2024-06-13T08:41:53.907392Z",
     "iopub.status.busy": "2024-06-13T08:41:53.906674Z",
     "iopub.status.idle": "2024-06-13T08:41:54.703868Z",
     "shell.execute_reply": "2024-06-13T08:41:54.702869Z"
    },
    "papermill": {
     "duration": 0.807022,
     "end_time": "2024-06-13T08:41:54.706416",
     "exception": false,
     "start_time": "2024-06-13T08:41:53.899394",
     "status": "completed"
    },
    "tags": []
   },
   "outputs": [],
   "source": [
    "import numpy as np\n",
    "import pandas as pd \n",
    "\n",
    "import os\n"
   ]
  },
  {
   "cell_type": "code",
   "execution_count": 4,
   "id": "3955d42f",
   "metadata": {
    "execution": {
     "iopub.execute_input": "2024-06-13T08:41:54.720292Z",
     "iopub.status.busy": "2024-06-13T08:41:54.719821Z",
     "iopub.status.idle": "2024-06-13T08:42:01.069792Z",
     "shell.execute_reply": "2024-06-13T08:42:01.069027Z"
    },
    "papermill": {
     "duration": 6.359316,
     "end_time": "2024-06-13T08:42:01.072185",
     "exception": false,
     "start_time": "2024-06-13T08:41:54.712869",
     "status": "completed"
    },
    "tags": []
   },
   "outputs": [],
   "source": [
    "import torch\n",
    "import torch.nn as nn\n",
    "import torch.optim as optim\n",
    "import torchvision\n",
    "import torchvision.transforms as transforms\n",
    "from torch.utils.data import DataLoader\n",
    "from tqdm import tqdm\n",
    "import matplotlib.pyplot as plt\n",
    "from sklearn.metrics import confusion_matrix, roc_curve, auc\n",
    "import seaborn as sns"
   ]
  },
  {
   "cell_type": "code",
   "execution_count": 1,
   "id": "4647a2ea",
   "metadata": {},
   "outputs": [
    {
     "name": "stdout",
     "output_type": "stream",
     "text": [
      "Collecting python-mnist\n",
      "  Downloading python_mnist-0.7-py2.py3-none-any.whl.metadata (3.5 kB)\n",
      "Downloading python_mnist-0.7-py2.py3-none-any.whl (9.6 kB)\n",
      "Installing collected packages: python-mnist\n",
      "Successfully installed python-mnist-0.7\n"
     ]
    }
   ],
   "source": [
    "!pip install python-mnist"
   ]
  },
  {
   "cell_type": "code",
   "execution_count": 7,
   "id": "674cd6f9",
   "metadata": {
    "execution": {
     "iopub.execute_input": "2024-06-13T08:42:01.097722Z",
     "iopub.status.busy": "2024-06-13T08:42:01.097283Z",
     "iopub.status.idle": "2024-06-13T08:42:08.319310Z",
     "shell.execute_reply": "2024-06-13T08:42:08.318296Z"
    },
    "papermill": {
     "duration": 7.231214,
     "end_time": "2024-06-13T08:42:08.321668",
     "exception": false,
     "start_time": "2024-06-13T08:42:01.090454",
     "status": "completed"
    },
    "tags": []
   },
   "outputs": [],
   "source": [
    "import pandas as pd\n",
    "import torch\n",
    "from torch.utils.data import DataLoader, Dataset\n",
    "import torchvision.transforms as transforms\n",
    "from sklearn.model_selection import train_test_split\n",
    "from sklearn.datasets import fetch_openml\n",
    "\n",
    "# Custom Dataset class to handle the data\n",
    "class MNISTDataset(Dataset):\n",
    "    def __init__(self, data, labels, transform=None):\n",
    "        self.data = data\n",
    "        self.labels = labels\n",
    "        self.transform = transform\n",
    "\n",
    "    def __len__(self):\n",
    "        return len(self.data)\n",
    "\n",
    "    def __getitem__(self, idx):\n",
    "        image = self.data[idx].astype('float32').reshape(28, 28) / 255.0\n",
    "        label = self.labels[idx]\n",
    "        if self.transform:\n",
    "            image = self.transform(image)\n",
    "        return image, label\n",
    "\n",
    "transform = transforms.Compose([\n",
    "    transforms.ToTensor(),\n",
    "    transforms.Normalize((0.5,), (0.5,))\n",
    "])\n",
    "\n",
    "mnist = fetch_openml('mnist_784', version=1)\n",
    "X = mnist.data.values\n",
    "y = mnist.target.astype(int).values\n",
    "\n",
    "X_train, X_val, y_train, y_val = train_test_split(X, y, test_size=0.2, random_state=42)\n",
    "\n",
    "trainset = MNISTDataset(X_train, y_train, transform=transform)\n",
    "valset = MNISTDataset(X_val, y_val, transform=transform)\n",
    "\n",
    "trainloader = DataLoader(trainset, batch_size=64, shuffle=True)\n",
    "valloader = DataLoader(valset, batch_size=64, shuffle=False)\n",
    "\n",
    "for images, labels in trainloader:\n",
    "    print(images.shape, labels.shape)\n",
    "    break\n"
   ]
  },
  {
   "cell_type": "markdown",
   "id": "cd1de066",
   "metadata": {
    "papermill": {
     "duration": 0.006198,
     "end_time": "2024-06-13T08:42:08.334139",
     "exception": false,
     "start_time": "2024-06-13T08:42:08.327941",
     "status": "completed"
    },
    "tags": []
   },
   "source": [
    "## Creating kolmogorov arnold network"
   ]
  },
  {
   "cell_type": "code",
   "execution_count": 4,
   "id": "790c08d3",
   "metadata": {
    "execution": {
     "iopub.execute_input": "2024-06-13T08:42:08.347851Z",
     "iopub.status.busy": "2024-06-13T08:42:08.347544Z",
     "iopub.status.idle": "2024-06-13T08:42:08.387882Z",
     "shell.execute_reply": "2024-06-13T08:42:08.387075Z"
    },
    "papermill": {
     "duration": 0.049716,
     "end_time": "2024-06-13T08:42:08.389909",
     "exception": false,
     "start_time": "2024-06-13T08:42:08.340193",
     "status": "completed"
    },
    "tags": []
   },
   "outputs": [],
   "source": [
    "import torch\n",
    "import torch.nn.functional as F\n",
    "import math\n",
    "\n",
    "\n",
    "class KANLinear(torch.nn.Module):\n",
    "    def __init__(\n",
    "        self,\n",
    "        in_features,\n",
    "        out_features,\n",
    "        grid_size=5,\n",
    "        spline_order=3,\n",
    "        scale_noise=0.1,\n",
    "        scale_base=1.0,\n",
    "        scale_spline=1.0,\n",
    "        enable_standalone_scale_spline=True,\n",
    "        base_activation=torch.nn.SiLU,\n",
    "        grid_eps=0.02,\n",
    "        grid_range=[-1, 1],\n",
    "    ):\n",
    "        super(KANLinear, self).__init__()\n",
    "        self.in_features = in_features\n",
    "        self.out_features = out_features\n",
    "        self.grid_size = grid_size\n",
    "        self.spline_order = spline_order\n",
    "\n",
    "        h = (grid_range[1] - grid_range[0]) / grid_size\n",
    "        grid = (\n",
    "            (\n",
    "                torch.arange(-spline_order, grid_size + spline_order + 1) * h\n",
    "                + grid_range[0]\n",
    "            )\n",
    "            .expand(in_features, -1)\n",
    "            .contiguous()\n",
    "        )\n",
    "        self.register_buffer(\"grid\", grid)\n",
    "\n",
    "        self.base_weight = torch.nn.Parameter(torch.Tensor(out_features, in_features))\n",
    "        self.spline_weight = torch.nn.Parameter(\n",
    "            torch.Tensor(out_features, in_features, grid_size + spline_order)\n",
    "        )\n",
    "        if enable_standalone_scale_spline:\n",
    "            self.spline_scaler = torch.nn.Parameter(\n",
    "                torch.Tensor(out_features, in_features)\n",
    "            )\n",
    "\n",
    "        self.scale_noise = scale_noise\n",
    "        self.scale_base = scale_base\n",
    "        self.scale_spline = scale_spline\n",
    "        self.enable_standalone_scale_spline = enable_standalone_scale_spline\n",
    "        self.base_activation = base_activation()\n",
    "        self.grid_eps = grid_eps\n",
    "\n",
    "        self.reset_parameters()\n",
    "\n",
    "    def reset_parameters(self):\n",
    "        torch.nn.init.kaiming_uniform_(self.base_weight, a=math.sqrt(5) * self.scale_base)\n",
    "        with torch.no_grad():\n",
    "            noise = (\n",
    "                (\n",
    "                    torch.rand(self.grid_size + 1, self.in_features, self.out_features)\n",
    "                    - 1 / 2\n",
    "                )\n",
    "                * self.scale_noise\n",
    "                / self.grid_size\n",
    "            )\n",
    "            self.spline_weight.data.copy_(\n",
    "                (self.scale_spline if not self.enable_standalone_scale_spline else 1.0)\n",
    "                * self.curve2coeff(\n",
    "                    self.grid.T[self.spline_order : -self.spline_order],\n",
    "                    noise,\n",
    "                )\n",
    "            )\n",
    "            if self.enable_standalone_scale_spline:\n",
    "                # torch.nn.init.constant_(self.spline_scaler, self.scale_spline)\n",
    "                torch.nn.init.kaiming_uniform_(self.spline_scaler, a=math.sqrt(5) * self.scale_spline)\n",
    "\n",
    "    def b_splines(self, x: torch.Tensor):\n",
    "        \"\"\"\n",
    "        Compute the B-spline bases for the given input tensor.\n",
    "\n",
    "        Args:\n",
    "            x (torch.Tensor): Input tensor of shape (batch_size, in_features).\n",
    "\n",
    "        Returns:\n",
    "            torch.Tensor: B-spline bases tensor of shape (batch_size, in_features, grid_size + spline_order).\n",
    "        \"\"\"\n",
    "        assert x.dim() == 2 and x.size(1) == self.in_features\n",
    "\n",
    "        grid: torch.Tensor = (\n",
    "            self.grid\n",
    "        )  # (in_features, grid_size + 2 * spline_order + 1)\n",
    "        x = x.unsqueeze(-1)\n",
    "        bases = ((x >= grid[:, :-1]) & (x < grid[:, 1:])).to(x.dtype)\n",
    "        for k in range(1, self.spline_order + 1):\n",
    "            bases = (\n",
    "                (x - grid[:, : -(k + 1)])\n",
    "                / (grid[:, k:-1] - grid[:, : -(k + 1)])\n",
    "                * bases[:, :, :-1]\n",
    "            ) + (\n",
    "                (grid[:, k + 1 :] - x)\n",
    "                / (grid[:, k + 1 :] - grid[:, 1:(-k)])\n",
    "                * bases[:, :, 1:]\n",
    "            )\n",
    "\n",
    "        assert bases.size() == (\n",
    "            x.size(0),\n",
    "            self.in_features,\n",
    "            self.grid_size + self.spline_order,\n",
    "        )\n",
    "        return bases.contiguous()\n",
    "\n",
    "    def curve2coeff(self, x: torch.Tensor, y: torch.Tensor):\n",
    "        \"\"\"\n",
    "        Compute the coefficients of the curve that interpolates the given points.\n",
    "\n",
    "        Args:\n",
    "            x (torch.Tensor): Input tensor of shape (batch_size, in_features).\n",
    "            y (torch.Tensor): Output tensor of shape (batch_size, in_features, out_features).\n",
    "\n",
    "        Returns:\n",
    "            torch.Tensor: Coefficients tensor of shape (out_features, in_features, grid_size + spline_order).\n",
    "        \"\"\"\n",
    "        assert x.dim() == 2 and x.size(1) == self.in_features\n",
    "        assert y.size() == (x.size(0), self.in_features, self.out_features)\n",
    "\n",
    "        A = self.b_splines(x).transpose(\n",
    "            0, 1\n",
    "        )  # (in_features, batch_size, grid_size + spline_order)\n",
    "        B = y.transpose(0, 1)  # (in_features, batch_size, out_features)\n",
    "        solution = torch.linalg.lstsq(\n",
    "            A, B\n",
    "        ).solution  # (in_features, grid_size + spline_order, out_features)\n",
    "        result = solution.permute(\n",
    "            2, 0, 1\n",
    "        )  # (out_features, in_features, grid_size + spline_order)\n",
    "\n",
    "        assert result.size() == (\n",
    "            self.out_features,\n",
    "            self.in_features,\n",
    "            self.grid_size + self.spline_order,\n",
    "        )\n",
    "        return result.contiguous()\n",
    "\n",
    "    @property\n",
    "    def scaled_spline_weight(self):\n",
    "        return self.spline_weight * (\n",
    "            self.spline_scaler.unsqueeze(-1)\n",
    "            if self.enable_standalone_scale_spline\n",
    "            else 1.0\n",
    "        )\n",
    "\n",
    "    def forward(self, x: torch.Tensor):\n",
    "        assert x.size(-1) == self.in_features\n",
    "        original_shape = x.shape\n",
    "        x = x.view(-1, self.in_features)\n",
    "\n",
    "        base_output = F.linear(self.base_activation(x), self.base_weight)\n",
    "        spline_output = F.linear(\n",
    "            self.b_splines(x).view(x.size(0), -1),\n",
    "            self.scaled_spline_weight.view(self.out_features, -1),\n",
    "        )\n",
    "        output = base_output + spline_output\n",
    "        \n",
    "        output = output.view(*original_shape[:-1], self.out_features)\n",
    "        return output\n",
    "\n",
    "    @torch.no_grad()\n",
    "    def update_grid(self, x: torch.Tensor, margin=0.01):\n",
    "        assert x.dim() == 2 and x.size(1) == self.in_features\n",
    "        batch = x.size(0)\n",
    "\n",
    "        splines = self.b_splines(x)  # (batch, in, coeff)\n",
    "        splines = splines.permute(1, 0, 2)  # (in, batch, coeff)\n",
    "        orig_coeff = self.scaled_spline_weight  # (out, in, coeff)\n",
    "        orig_coeff = orig_coeff.permute(1, 2, 0)  # (in, coeff, out)\n",
    "        unreduced_spline_output = torch.bmm(splines, orig_coeff)  # (in, batch, out)\n",
    "        unreduced_spline_output = unreduced_spline_output.permute(\n",
    "            1, 0, 2\n",
    "        )  # (batch, in, out)\n",
    "\n",
    "        # sort each channel individually to collect data distribution\n",
    "        x_sorted = torch.sort(x, dim=0)[0]\n",
    "        grid_adaptive = x_sorted[\n",
    "            torch.linspace(\n",
    "                0, batch - 1, self.grid_size + 1, dtype=torch.int64, device=x.device\n",
    "            )\n",
    "        ]\n",
    "\n",
    "        uniform_step = (x_sorted[-1] - x_sorted[0] + 2 * margin) / self.grid_size\n",
    "        grid_uniform = (\n",
    "            torch.arange(\n",
    "                self.grid_size + 1, dtype=torch.float32, device=x.device\n",
    "            ).unsqueeze(1)\n",
    "            * uniform_step\n",
    "            + x_sorted[0]\n",
    "            - margin\n",
    "        )\n",
    "\n",
    "        grid = self.grid_eps * grid_uniform + (1 - self.grid_eps) * grid_adaptive\n",
    "        grid = torch.concatenate(\n",
    "            [\n",
    "                grid[:1]\n",
    "                - uniform_step\n",
    "                * torch.arange(self.spline_order, 0, -1, device=x.device).unsqueeze(1),\n",
    "                grid,\n",
    "                grid[-1:]\n",
    "                + uniform_step\n",
    "                * torch.arange(1, self.spline_order + 1, device=x.device).unsqueeze(1),\n",
    "            ],\n",
    "            dim=0,\n",
    "        )\n",
    "\n",
    "        self.grid.copy_(grid.T)\n",
    "        self.spline_weight.data.copy_(self.curve2coeff(x, unreduced_spline_output))\n",
    "\n",
    "    def regularization_loss(self, regularize_activation=1.0, regularize_entropy=1.0):\n",
    "        \"\"\"\n",
    "        Compute the regularization loss.\n",
    "\n",
    "        This is a dumb simulation of the original L1 regularization as stated in the\n",
    "        paper, since the original one requires computing absolutes and entropy from the\n",
    "        expanded (batch, in_features, out_features) intermediate tensor, which is hidden\n",
    "        behind the F.linear function if we want an memory efficient implementation.\n",
    "\n",
    "        The L1 regularization is now computed as mean absolute value of the spline\n",
    "        weights. The authors implementation also includes this term in addition to the\n",
    "        sample-based regularization.\n",
    "        \"\"\"\n",
    "        l1_fake = self.spline_weight.abs().mean(-1)\n",
    "        regularization_loss_activation = l1_fake.sum()\n",
    "        p = l1_fake / regularization_loss_activation\n",
    "        regularization_loss_entropy = -torch.sum(p * p.log())\n",
    "        return (\n",
    "            regularize_activation * regularization_loss_activation\n",
    "            + regularize_entropy * regularization_loss_entropy\n",
    "        )\n",
    "\n",
    "\n",
    "class KAN(torch.nn.Module):\n",
    "    def __init__(\n",
    "        self,\n",
    "        layers_hidden,\n",
    "        grid_size=5,\n",
    "        spline_order=3,\n",
    "        scale_noise=0.1,\n",
    "        scale_base=1.0,\n",
    "        scale_spline=1.0,\n",
    "        base_activation=torch.nn.SiLU,\n",
    "        grid_eps=0.02,\n",
    "        grid_range=[-1, 1],\n",
    "    ):\n",
    "        super(KAN, self).__init__()\n",
    "        self.grid_size = grid_size\n",
    "        self.spline_order = spline_order\n",
    "\n",
    "        self.layers = torch.nn.ModuleList()\n",
    "        for in_features, out_features in zip(layers_hidden, layers_hidden[1:]):\n",
    "            self.layers.append(\n",
    "                KANLinear(\n",
    "                    in_features,\n",
    "                    out_features,\n",
    "                    grid_size=grid_size,\n",
    "                    spline_order=spline_order,\n",
    "                    scale_noise=scale_noise,\n",
    "                    scale_base=scale_base,\n",
    "                    scale_spline=scale_spline,\n",
    "                    base_activation=base_activation,\n",
    "                    grid_eps=grid_eps,\n",
    "                    grid_range=grid_range,\n",
    "                )\n",
    "            )\n",
    "\n",
    "    def forward(self, x: torch.Tensor, update_grid=False):\n",
    "        for layer in self.layers:\n",
    "            if update_grid:\n",
    "                layer.update_grid(x)\n",
    "            x = layer(x)\n",
    "        return x\n",
    "\n",
    "    def regularization_loss(self, regularize_activation=1.0, regularize_entropy=1.0):\n",
    "        return sum(\n",
    "            layer.regularization_loss(regularize_activation, regularize_entropy)\n",
    "            for layer in self.layers\n",
    "        )"
   ]
  },
  {
   "cell_type": "markdown",
   "id": "b70fc8a8",
   "metadata": {
    "papermill": {
     "duration": 0.006042,
     "end_time": "2024-06-13T08:42:08.402312",
     "exception": false,
     "start_time": "2024-06-13T08:42:08.396270",
     "status": "completed"
    },
    "tags": []
   },
   "source": [
    "## Initialization of network"
   ]
  },
  {
   "cell_type": "markdown",
   "id": "22d93fb4",
   "metadata": {
    "papermill": {
     "duration": 0.006,
     "end_time": "2024-06-13T08:42:08.414303",
     "exception": false,
     "start_time": "2024-06-13T08:42:08.408303",
     "status": "completed"
    },
    "tags": []
   },
   "source": [
    "Input Layer is 784 i.e. 28 x 28 which is dimension of image <br>\n",
    "Hidden layer is 2 x input_layer+1 i.e. 1569 <br>\n",
    "Output layer is 10 for all digits"
   ]
  },
  {
   "cell_type": "code",
   "execution_count": 5,
   "id": "5c415d3f",
   "metadata": {
    "execution": {
     "iopub.execute_input": "2024-06-13T08:42:08.427864Z",
     "iopub.status.busy": "2024-06-13T08:42:08.427273Z",
     "iopub.status.idle": "2024-06-13T08:42:09.063662Z",
     "shell.execute_reply": "2024-06-13T08:42:09.062749Z"
    },
    "papermill": {
     "duration": 0.645389,
     "end_time": "2024-06-13T08:42:09.065800",
     "exception": false,
     "start_time": "2024-06-13T08:42:08.420411",
     "status": "completed"
    },
    "tags": []
   },
   "outputs": [
    {
     "data": {
      "text/plain": [
       "KAN(\n",
       "  (layers): ModuleList(\n",
       "    (0-1): 2 x KANLinear(\n",
       "      (base_activation): SiLU()\n",
       "    )\n",
       "  )\n",
       ")"
      ]
     },
     "execution_count": 5,
     "metadata": {},
     "output_type": "execute_result"
    }
   ],
   "source": [
    "# Define model\n",
    "model = KAN([28 * 28, 28 * 28 * 2 + 1, 10])\n",
    "device = torch.device(\"cuda\" if torch.cuda.is_available() else \"cpu\")\n",
    "model.to(device)"
   ]
  },
  {
   "cell_type": "markdown",
   "id": "091de54b",
   "metadata": {
    "papermill": {
     "duration": 0.007236,
     "end_time": "2024-06-13T08:42:09.079561",
     "exception": false,
     "start_time": "2024-06-13T08:42:09.072325",
     "status": "completed"
    },
    "tags": []
   },
   "source": [
    "Defining Optimizer and Learning Rate Decay"
   ]
  },
  {
   "cell_type": "code",
   "execution_count": 6,
   "id": "a529d08b",
   "metadata": {
    "execution": {
     "iopub.execute_input": "2024-06-13T08:42:09.093520Z",
     "iopub.status.busy": "2024-06-13T08:42:09.093221Z",
     "iopub.status.idle": "2024-06-13T08:42:09.098125Z",
     "shell.execute_reply": "2024-06-13T08:42:09.097368Z"
    },
    "papermill": {
     "duration": 0.014015,
     "end_time": "2024-06-13T08:42:09.100126",
     "exception": false,
     "start_time": "2024-06-13T08:42:09.086111",
     "status": "completed"
    },
    "tags": []
   },
   "outputs": [],
   "source": [
    "# Define optimizer\n",
    "optimizer = optim.AdamW(model.parameters(), lr=1e-3, weight_decay=1e-4)\n",
    "# Define learning rate scheduler\n",
    "scheduler = optim.lr_scheduler.ExponentialLR(optimizer, gamma=0.8)\n",
    "\n"
   ]
  },
  {
   "cell_type": "code",
   "execution_count": 7,
   "id": "87b9a2f0",
   "metadata": {
    "execution": {
     "iopub.execute_input": "2024-06-13T08:42:09.113720Z",
     "iopub.status.busy": "2024-06-13T08:42:09.113472Z",
     "iopub.status.idle": "2024-06-13T08:42:09.118024Z",
     "shell.execute_reply": "2024-06-13T08:42:09.117039Z"
    },
    "papermill": {
     "duration": 0.013916,
     "end_time": "2024-06-13T08:42:09.120235",
     "exception": false,
     "start_time": "2024-06-13T08:42:09.106319",
     "status": "completed"
    },
    "tags": []
   },
   "outputs": [],
   "source": [
    "# Define loss\n",
    "criterion = nn.CrossEntropyLoss()\n",
    "\n",
    "train_losses = []\n",
    "train_accuracies = []\n",
    "val_losses = []\n",
    "val_accuracies = []\n"
   ]
  },
  {
   "cell_type": "markdown",
   "id": "c444faf1",
   "metadata": {
    "papermill": {
     "duration": 0.006137,
     "end_time": "2024-06-13T08:42:09.132658",
     "exception": false,
     "start_time": "2024-06-13T08:42:09.126521",
     "status": "completed"
    },
    "tags": []
   },
   "source": [
    "## training of Network"
   ]
  },
  {
   "cell_type": "code",
   "execution_count": 8,
   "id": "e410d8b9",
   "metadata": {
    "execution": {
     "iopub.execute_input": "2024-06-13T08:42:09.146246Z",
     "iopub.status.busy": "2024-06-13T08:42:09.145856Z",
     "iopub.status.idle": "2024-06-13T08:45:10.202125Z",
     "shell.execute_reply": "2024-06-13T08:45:10.201157Z"
    },
    "papermill": {
     "duration": 181.06533,
     "end_time": "2024-06-13T08:45:10.204117",
     "exception": false,
     "start_time": "2024-06-13T08:42:09.138787",
     "status": "completed"
    },
    "tags": []
   },
   "outputs": [
    {
     "name": "stderr",
     "output_type": "stream",
     "text": [
      "100%|██████████| 525/525 [00:08<00:00, 63.66it/s, accuracy=0.922, loss=0.182, lr=0.001]\n"
     ]
    },
    {
     "name": "stdout",
     "output_type": "stream",
     "text": [
      "Epoch 1, Train Loss: 0.32951514990556807, Train Accuracy: 0.9004761904761904, Val Loss: 0.17857003892122797, Val Accuracy: 0.9447206439393939\n"
     ]
    },
    {
     "name": "stderr",
     "output_type": "stream",
     "text": [
      "100%|██████████| 525/525 [00:07<00:00, 66.75it/s, accuracy=0.969, loss=0.181, lr=0.0008]\n"
     ]
    },
    {
     "name": "stdout",
     "output_type": "stream",
     "text": [
      "Epoch 2, Train Loss: 0.11409986420401505, Train Accuracy: 0.9658630952380952, Val Loss: 0.13168412008125222, Val Accuracy: 0.9578598484848485\n"
     ]
    },
    {
     "name": "stderr",
     "output_type": "stream",
     "text": [
      "100%|██████████| 525/525 [00:08<00:00, 65.27it/s, accuracy=0.984, loss=0.0637, lr=0.00064]\n"
     ]
    },
    {
     "name": "stdout",
     "output_type": "stream",
     "text": [
      "Epoch 3, Train Loss: 0.05950978647651417, Train Accuracy: 0.9822619047619048, Val Loss: 0.10115350895053284, Val Accuracy: 0.9682765151515151\n"
     ]
    },
    {
     "name": "stderr",
     "output_type": "stream",
     "text": [
      "100%|██████████| 525/525 [00:07<00:00, 66.76it/s, accuracy=1, loss=0.0173, lr=0.000512]\n"
     ]
    },
    {
     "name": "stdout",
     "output_type": "stream",
     "text": [
      "Epoch 4, Train Loss: 0.02946298257935615, Train Accuracy: 0.9922321428571429, Val Loss: 0.08093627665728105, Val Accuracy: 0.9739583333333334\n"
     ]
    },
    {
     "name": "stderr",
     "output_type": "stream",
     "text": [
      "100%|██████████| 525/525 [00:07<00:00, 67.04it/s, accuracy=1, loss=0.0371, lr=0.00041]\n"
     ]
    },
    {
     "name": "stdout",
     "output_type": "stream",
     "text": [
      "Epoch 5, Train Loss: 0.014153277100108209, Train Accuracy: 0.9972321428571429, Val Loss: 0.07400593431807603, Val Accuracy: 0.9777462121212122\n"
     ]
    },
    {
     "name": "stderr",
     "output_type": "stream",
     "text": [
      "100%|██████████| 525/525 [00:07<00:00, 66.66it/s, accuracy=0.984, loss=0.0197, lr=0.000328]\n"
     ]
    },
    {
     "name": "stdout",
     "output_type": "stream",
     "text": [
      "Epoch 6, Train Loss: 0.006878736254736959, Train Accuracy: 0.9992261904761904, Val Loss: 0.07509145286343427, Val Accuracy: 0.9781013257575758\n"
     ]
    },
    {
     "name": "stderr",
     "output_type": "stream",
     "text": [
      "100%|██████████| 525/525 [00:07<00:00, 66.10it/s, accuracy=1, loss=0.00667, lr=0.000262]\n"
     ]
    },
    {
     "name": "stdout",
     "output_type": "stream",
     "text": [
      "Epoch 7, Train Loss: 0.00364966310095042, Train Accuracy: 0.9997916666666666, Val Loss: 0.07415443119261357, Val Accuracy: 0.9777462121212122\n"
     ]
    },
    {
     "name": "stderr",
     "output_type": "stream",
     "text": [
      "100%|██████████| 525/525 [00:07<00:00, 65.87it/s, accuracy=1, loss=0.00157, lr=0.00021]\n"
     ]
    },
    {
     "name": "stdout",
     "output_type": "stream",
     "text": [
      "Epoch 8, Train Loss: 0.0022992174486474444, Train Accuracy: 1.0, Val Loss: 0.0737676416492005, Val Accuracy: 0.9779829545454546\n"
     ]
    },
    {
     "name": "stderr",
     "output_type": "stream",
     "text": [
      "100%|██████████| 525/525 [00:07<00:00, 66.13it/s, accuracy=1, loss=0.00162, lr=0.000168]\n"
     ]
    },
    {
     "name": "stdout",
     "output_type": "stream",
     "text": [
      "Epoch 9, Train Loss: 0.0016908568507503895, Train Accuracy: 1.0, Val Loss: 0.07369936380189646, Val Accuracy: 0.9785748106060606\n"
     ]
    },
    {
     "name": "stderr",
     "output_type": "stream",
     "text": [
      "100%|██████████| 525/525 [00:08<00:00, 65.59it/s, accuracy=1, loss=0.00162, lr=0.000134]\n"
     ]
    },
    {
     "name": "stdout",
     "output_type": "stream",
     "text": [
      "Epoch 10, Train Loss: 0.001350673335116534, Train Accuracy: 1.0, Val Loss: 0.07439234314105389, Val Accuracy: 0.9779829545454546\n"
     ]
    },
    {
     "name": "stderr",
     "output_type": "stream",
     "text": [
      "100%|██████████| 525/525 [00:07<00:00, 65.65it/s, accuracy=1, loss=0.000867, lr=0.000107]\n"
     ]
    },
    {
     "name": "stdout",
     "output_type": "stream",
     "text": [
      "Epoch 11, Train Loss: 0.001118436781938986, Train Accuracy: 1.0, Val Loss: 0.07512654856492934, Val Accuracy: 0.978219696969697\n"
     ]
    },
    {
     "name": "stderr",
     "output_type": "stream",
     "text": [
      "100%|██████████| 525/525 [00:08<00:00, 65.46it/s, accuracy=1, loss=0.00103, lr=8.59e-5]\n"
     ]
    },
    {
     "name": "stdout",
     "output_type": "stream",
     "text": [
      "Epoch 12, Train Loss: 0.0009633249910118701, Train Accuracy: 1.0, Val Loss: 0.07514311688701679, Val Accuracy: 0.9779829545454546\n"
     ]
    },
    {
     "name": "stderr",
     "output_type": "stream",
     "text": [
      "100%|██████████| 525/525 [00:07<00:00, 66.87it/s, accuracy=1, loss=0.000366, lr=6.87e-5]\n"
     ]
    },
    {
     "name": "stdout",
     "output_type": "stream",
     "text": [
      "Epoch 13, Train Loss: 0.0008404493631124274, Train Accuracy: 1.0, Val Loss: 0.07633149180875273, Val Accuracy: 0.978219696969697\n"
     ]
    },
    {
     "name": "stderr",
     "output_type": "stream",
     "text": [
      "100%|██████████| 525/525 [00:08<00:00, 65.48it/s, accuracy=1, loss=0.000356, lr=5.5e-5]\n"
     ]
    },
    {
     "name": "stdout",
     "output_type": "stream",
     "text": [
      "Epoch 14, Train Loss: 0.0007378138796359832, Train Accuracy: 1.0, Val Loss: 0.07534625637874176, Val Accuracy: 0.978219696969697\n"
     ]
    },
    {
     "name": "stderr",
     "output_type": "stream",
     "text": [
      "100%|██████████| 525/525 [00:07<00:00, 66.60it/s, accuracy=1, loss=0.000428, lr=4.4e-5]\n"
     ]
    },
    {
     "name": "stdout",
     "output_type": "stream",
     "text": [
      "Epoch 15, Train Loss: 0.0006586070999730423, Train Accuracy: 1.0, Val Loss: 0.07564514053008294, Val Accuracy: 0.978811553030303\n"
     ]
    },
    {
     "name": "stderr",
     "output_type": "stream",
     "text": [
      "100%|██████████| 525/525 [00:07<00:00, 66.81it/s, accuracy=1, loss=0.000334, lr=3.52e-5]\n"
     ]
    },
    {
     "name": "stdout",
     "output_type": "stream",
     "text": [
      "Epoch 16, Train Loss: 0.0005966180438346263, Train Accuracy: 1.0, Val Loss: 0.07639564925480183, Val Accuracy: 0.9784564393939394\n"
     ]
    },
    {
     "name": "stderr",
     "output_type": "stream",
     "text": [
      "100%|██████████| 525/525 [00:07<00:00, 65.74it/s, accuracy=1, loss=0.000456, lr=2.81e-5]\n"
     ]
    },
    {
     "name": "stdout",
     "output_type": "stream",
     "text": [
      "Epoch 17, Train Loss: 0.0005398993124669817, Train Accuracy: 1.0, Val Loss: 0.07673318102200882, Val Accuracy: 0.978811553030303\n"
     ]
    },
    {
     "name": "stderr",
     "output_type": "stream",
     "text": [
      "100%|██████████| 525/525 [00:07<00:00, 66.59it/s, accuracy=1, loss=0.000422, lr=2.25e-5]\n"
     ]
    },
    {
     "name": "stdout",
     "output_type": "stream",
     "text": [
      "Epoch 18, Train Loss: 0.0004944171893571149, Train Accuracy: 1.0, Val Loss: 0.07680962893716765, Val Accuracy: 0.9785748106060606\n"
     ]
    },
    {
     "name": "stderr",
     "output_type": "stream",
     "text": [
      "100%|██████████| 525/525 [00:07<00:00, 67.55it/s, accuracy=1, loss=0.000465, lr=1.8e-5]\n"
     ]
    },
    {
     "name": "stdout",
     "output_type": "stream",
     "text": [
      "Epoch 19, Train Loss: 0.00045788528450343405, Train Accuracy: 1.0, Val Loss: 0.07734795830214297, Val Accuracy: 0.9784564393939394\n"
     ]
    },
    {
     "name": "stderr",
     "output_type": "stream",
     "text": [
      "100%|██████████| 525/525 [00:07<00:00, 67.85it/s, accuracy=1, loss=0.000346, lr=1.44e-5]\n"
     ]
    },
    {
     "name": "stdout",
     "output_type": "stream",
     "text": [
      "Epoch 20, Train Loss: 0.00042611572194367733, Train Accuracy: 1.0, Val Loss: 0.07753022726330638, Val Accuracy: 0.978811553030303\n"
     ]
    }
   ],
   "source": [
    "for epoch in range(20):\n",
    "    # Train\n",
    "    model.train()\n",
    "    epoch_train_loss = 0\n",
    "    epoch_train_accuracy = 0\n",
    "    with tqdm(trainloader) as pbar:\n",
    "        for i, (images, labels) in enumerate(pbar):\n",
    "            images = images.view(-1, 28 * 28).to(device)\n",
    "            labels = labels.to(device)\n",
    "            optimizer.zero_grad()\n",
    "            output = model(images)\n",
    "            loss = criterion(output, labels)\n",
    "            loss.backward()\n",
    "            optimizer.step()\n",
    "            accuracy = (output.argmax(dim=1) == labels).float().mean()\n",
    "            epoch_train_loss += loss.item()\n",
    "            epoch_train_accuracy += accuracy.item()\n",
    "            pbar.set_postfix(loss=loss.item(), accuracy=accuracy.item(), lr=optimizer.param_groups[0]['lr'])\n",
    "    \n",
    "    epoch_train_loss /= len(trainloader)\n",
    "    epoch_train_accuracy /= len(trainloader)\n",
    "    train_losses.append(epoch_train_loss)\n",
    "    train_accuracies.append(epoch_train_accuracy)\n",
    "\n",
    "    # Validation\n",
    "    model.eval()\n",
    "    val_loss = 0\n",
    "    val_accuracy = 0\n",
    "    all_labels = []\n",
    "    all_preds = []\n",
    "    with torch.no_grad():\n",
    "        for images, labels in valloader:\n",
    "            images = images.view(-1, 28 * 28).to(device)\n",
    "            labels = labels.to(device)\n",
    "            output = model(images)\n",
    "            val_loss += criterion(output, labels).item()\n",
    "            val_accuracy += (output.argmax(dim=1) == labels).float().mean().item()\n",
    "            all_labels.extend(labels.cpu().numpy())\n",
    "            all_preds.extend(output.argmax(dim=1).cpu().numpy())\n",
    "\n",
    "    val_loss /= len(valloader)\n",
    "    val_accuracy /= len(valloader)\n",
    "    val_losses.append(val_loss)\n",
    "    val_accuracies.append(val_accuracy)\n",
    "\n",
    "    # Update learning rate\n",
    "    scheduler.step()\n",
    "\n",
    "    print(f\"Epoch {epoch + 1}, Train Loss: {epoch_train_loss}, Train Accuracy: {epoch_train_accuracy}, Val Loss: {val_loss}, Val Accuracy: {val_accuracy}\")\n"
   ]
  },
  {
   "cell_type": "markdown",
   "id": "ee0db453",
   "metadata": {
    "papermill": {
     "duration": 1.077121,
     "end_time": "2024-06-13T08:45:12.240850",
     "exception": false,
     "start_time": "2024-06-13T08:45:11.163729",
     "status": "completed"
    },
    "tags": []
   },
   "source": [
    "## training Plot of Network"
   ]
  },
  {
   "cell_type": "code",
   "execution_count": 9,
   "id": "9fbfff0b",
   "metadata": {
    "execution": {
     "iopub.execute_input": "2024-06-13T08:45:14.230435Z",
     "iopub.status.busy": "2024-06-13T08:45:14.229927Z",
     "iopub.status.idle": "2024-06-13T08:45:14.690422Z",
     "shell.execute_reply": "2024-06-13T08:45:14.689525Z"
    },
    "papermill": {
     "duration": 1.483423,
     "end_time": "2024-06-13T08:45:14.692456",
     "exception": false,
     "start_time": "2024-06-13T08:45:13.209033",
     "status": "completed"
    },
    "tags": []
   },
   "outputs": [
    {
     "data": {
      "image/png": "[encoded data removed]",
      "text/plain": [
       "<Figure size 1200x400 with 2 Axes>"
      ]
     },
     "metadata": {},
     "output_type": "display_data"
    }
   ],
   "source": [
    "# Plot training and validation loss and accuracy\n",
    "plt.figure(figsize=(12, 4))\n",
    "plt.subplot(1, 2, 1)\n",
    "plt.plot(train_losses, label='Train Loss')\n",
    "plt.plot(val_losses, label='Validation Loss')\n",
    "plt.xlabel('Epoch')\n",
    "plt.ylabel('Loss')\n",
    "plt.legend()\n",
    "plt.subplot(1, 2, 2)\n",
    "plt.plot(train_accuracies, label='Train Accuracy')\n",
    "plt.plot(val_accuracies, label='Validation Accuracy')\n",
    "plt.xlabel('Epoch')\n",
    "plt.ylabel('Accuracy')\n",
    "plt.legend()\n",
    "plt.show()\n",
    "\n"
   ]
  },
  {
   "cell_type": "markdown",
   "id": "a8529d14",
   "metadata": {
    "papermill": {
     "duration": 1.024115,
     "end_time": "2024-06-13T08:45:16.683749",
     "exception": false,
     "start_time": "2024-06-13T08:45:15.659634",
     "status": "completed"
    },
    "tags": []
   },
   "source": [
    "## Confusion Matrix Plot"
   ]
  },
  {
   "cell_type": "code",
   "execution_count": 10,
   "id": "3dd1553c",
   "metadata": {
    "execution": {
     "iopub.execute_input": "2024-06-13T08:45:18.671272Z",
     "iopub.status.busy": "2024-06-13T08:45:18.670630Z",
     "iopub.status.idle": "2024-06-13T08:45:19.188526Z",
     "shell.execute_reply": "2024-06-13T08:45:19.187642Z"
    },
    "papermill": {
     "duration": 1.536515,
     "end_time": "2024-06-13T08:45:19.190556",
     "exception": false,
     "start_time": "2024-06-13T08:45:17.654041",
     "status": "completed"
    },
    "tags": []
   },
   "outputs": [
    {
     "data": {
      "image/png": "[encoded data removed]",
      "text/plain": [
       "<Figure size 1000x800 with 2 Axes>"
      ]
     },
     "metadata": {},
     "output_type": "display_data"
    }
   ],
   "source": [
    "import numpy as np\n",
    "\n",
    "# Define class labels\n",
    "class_labels = np.arange(10)\n",
    "\n",
    "# Confusion Matrix\n",
    "cm = confusion_matrix(all_labels, all_preds)\n",
    "plt.figure(figsize=(10, 8))\n",
    "sns.heatmap(cm, annot=True, fmt='d', cmap='Blues', xticklabels=class_labels, yticklabels=class_labels)\n",
    "plt.xlabel('Predicted')\n",
    "plt.ylabel('Actual')\n",
    "plt.title('Confusion Matrix')\n",
    "plt.show()\n"
   ]
  },
  {
   "cell_type": "code",
   "execution_count": null,
   "id": "52648870",
   "metadata": {
    "papermill": {
     "duration": 0.988736,
     "end_time": "2024-06-13T08:45:29.932579",
     "exception": false,
     "start_time": "2024-06-13T08:45:28.943843",
     "status": "completed"
    },
    "tags": []
   },
   "outputs": [],
   "source": []
  }
 ],
 "metadata": {
  "kaggle": {
   "accelerator": "gpu",
   "dataSources": [
    {
     "databundleVersionId": 861823,
     "sourceId": 3004,
     "sourceType": "competition"
    }
   ],
   "dockerImageVersionId": 30715,
   "isGpuEnabled": true,
   "isInternetEnabled": true,
   "language": "python",
   "sourceType": "notebook"
  },
  "kernelspec": {
   "display_name": "Python 3",
   "language": "python",
   "name": "python3"
  },
  "language_info": {
   "codemirror_mode": {
    "name": "ipython",
    "version": 3
   },
   "file_extension": ".py",
   "mimetype": "text/x-python",
   "name": "python",
   "nbconvert_exporter": "python",
   "pygments_lexer": "ipython3",
   "version": "3.12.3"
  },
  "papermill": {
   "default_parameters": {},
   "duration": 221.410657,
   "end_time": "2024-06-13T08:45:32.484896",
   "environment_variables": {},
   "exception": null,
   "input_path": "__notebook__.ipynb",
   "output_path": "__notebook__.ipynb",
   "parameters": {},
   "start_time": "2024-06-13T08:41:51.074239",
   "version": "2.5.0"
  }
 },
 "nbformat": 4,
 "nbformat_minor": 5
}
